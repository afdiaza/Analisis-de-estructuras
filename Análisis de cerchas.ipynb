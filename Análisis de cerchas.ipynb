{
 "cells": [
  {
   "cell_type": "markdown",
   "metadata": {},
   "source": [
    "Contenido bajo licencia Creative Commons BY-NC-ND. El contenido de este Notebook es creado por Ana Beatriz Acevedo Jaramillo y Daniela González González 2020. Este material es parte del curso Análisis de Estructuras del programa de Ingeniería Civil de la Universidad EAFIT."
   ]
  },
  {
   "cell_type": "markdown",
   "metadata": {},
   "source": [
    "<img src= \n",
    "\"http://www.eafit.edu.co/biblioteca/PublishingImages/logos/eafit_apa.jpg\" \n",
    "         alt=\"GeeksforGeeks logo\" \n",
    "         align=\"left\">"
   ]
  },
  {
   "cell_type": "markdown",
   "metadata": {},
   "source": [
    "# *Análisis matricial de cerchas planas*"
   ]
  },
  {
   "cell_type": "markdown",
   "metadata": {},
   "source": [
    "<p style='text-align: justify;'> El siguiente programa fue desarrollado como parte del material de apoyo para realizar el análisis de cerchas planas. Debe tener en cuenta que los datos de entrada que aparecen en el programa por defecto corresponden al ejercicio explicado en el documento de word del anexo.</p>"
   ]
  },
  {
   "cell_type": "markdown",
   "metadata": {},
   "source": [
    "### Sección de datos de entrada"
   ]
  },
  {
   "cell_type": "markdown",
   "metadata": {},
   "source": [
    "<p style='text-align: justify;'> Esta sección contiene todas las matrices y datos que el programa utiliza para realizar el cálculo de las fuerzas internas, reacciones, etc. Estos datos pueden ser modificados dependiendo de la estructura tipo cercha que se desee analizar.</p>"
   ]
  },
  {
   "cell_type": "code",
   "execution_count": 1,
   "metadata": {},
   "outputs": [],
   "source": [
    "import numpy as np"
   ]
  },
  {
   "cell_type": "markdown",
   "metadata": {},
   "source": [
    "1.En la próxima celda digite el valor de cada variable teniendo en cuenta la siguiente definición:\n",
    "\n",
    "* Nn=Número de nodos\n",
    "* NE=Número de elementos\n",
    "* NGL=Número de grados de libertad\n",
    "* NGLL=Número de grados de libertad libres\n",
    "* NGLR=Número de grados de libertad restringidos"
   ]
  },
  {
   "cell_type": "code",
   "execution_count": 2,
   "metadata": {},
   "outputs": [],
   "source": [
    "Nn=4    \n",
    "NE=5    \n",
    "NGL=8  \n",
    "NGLL=5 \n",
    "NGLR=3 "
   ]
  },
  {
   "cell_type": "markdown",
   "metadata": {},
   "source": [
    "2. Digite la matriz de grados de libertad tal y como se muestra en la siguiente imagen:"
   ]
  },
  {
   "cell_type": "markdown",
   "metadata": {},
   "source": [
    "\\begin{bmatrix}\n",
    "gxi_{1} &gyi_{1} &gxf_{1} &gyf_{1}\\\\\n",
    "gxi_{2} &gyi_{2} &gxf_{2} &gyf_{2}\\\\\n",
    "gxi_{3} &gyi_{3} &gxf_{3} &gyf_{3}\\\\\n",
    "gxi_{n} &gyi_{n} &gxf_{n} &gyf_{n}\\end{bmatrix}\n"
   ]
  },
  {
   "cell_type": "code",
   "execution_count": 3,
   "metadata": {},
   "outputs": [],
   "source": [
    "MGL=[[7,8,3,4],[3,4,5,6],[7,8,1,2],[1,2,5,6],[1,2,3,4]]"
   ]
  },
  {
   "cell_type": "markdown",
   "metadata": {},
   "source": [
    "3. Digite las matrices de propiedades de los elementos. MA corresponde a la matriz de almacenamiento de áreas y ME a la matriz de almacenamiento de  módulos de elasticidad. Recuerde ser consistente con las unidades, para este ejercicio se usarán áreas en mm<sup>2</sup> y módulos en GPa."
   ]
  },
  {
   "cell_type": "markdown",
   "metadata": {},
   "source": [
    "\n",
    "\\begin{bmatrix}\n",
    "A_{1}\\\\A_{2}\\\\A_{3}\\\\A_{n}\\end{bmatrix}\n"
   ]
  },
  {
   "cell_type": "markdown",
   "metadata": {},
   "source": [
    "\n",
    "\\begin{bmatrix}\n",
    "E_{1}\\\\E_{2}\\\\E_{3}\\\\E_{n}\\end{bmatrix}\n"
   ]
  },
  {
   "cell_type": "code",
   "execution_count": 4,
   "metadata": {},
   "outputs": [],
   "source": [
    "MA=[750,750,1000,1000,750]\n",
    "ME=[200,200,200,200,200]"
   ]
  },
  {
   "cell_type": "markdown",
   "metadata": {},
   "source": [
    "4. Digite la matriz de coordenadas de la estructura tal y como se muestra en la siguiente figura. Para este ejercicio, las distancias serán ingresadas en mm."
   ]
  },
  {
   "cell_type": "markdown",
   "metadata": {},
   "source": [
    "\\begin{bmatrix}\n",
    "xi_{1} &yi_{1} &xf_{1} &yf_{1}\\\\\n",
    "xi_{2} &yi_{2} &xf_{2} &yf_{2}\\\\\n",
    "xi_{3} &yi_{3} &xf_{3} &yf_{3}\\\\\n",
    "xi_{n} &yi_{n} &xf_{n} &yf_{n}\\end{bmatrix}\n"
   ]
  },
  {
   "cell_type": "code",
   "execution_count": 5,
   "metadata": {},
   "outputs": [],
   "source": [
    "MC=[[0,0,4000,3000],[4000,3000,8000,0],[0,0,4000,0],[4000,0,8000,0],[4000,0,4000,3000]]"
   ]
  },
  {
   "cell_type": "markdown",
   "metadata": {},
   "source": [
    "5. Digite la matriz de cargas en los nodos y la matriz de desplazamiento en los grados de libertad restringidos. Para este ejercicio, se ingresaron las cargas en kN y los desplazamientos en mm."
   ]
  },
  {
   "cell_type": "code",
   "execution_count": 6,
   "metadata": {},
   "outputs": [],
   "source": [
    "F0=[[0],[-10],[0],[0],[20]]\n",
    "U1=[[0],[0],[0]]"
   ]
  },
  {
   "cell_type": "markdown",
   "metadata": {},
   "source": [
    "### Sección de procesamiento de datos "
   ]
  },
  {
   "cell_type": "markdown",
   "metadata": {},
   "source": [
    "<p style='text-align: justify;'> En esta sección, el programa procesa los datos ingresados en las matrices de la sección de entrada de datos para realizar los cálculos necesarios. Se sugiere no modificar ninguna línea de código, a menos que se esté seguro del cambio a realizar, ya que esto puede dañar el programa y provocar que los resultados obtenidos no sean correctos. </p>"
   ]
  },
  {
   "cell_type": "markdown",
   "metadata": {},
   "source": [
    "6. Cálculo de la matriz de longitud. "
   ]
  },
  {
   "cell_type": "code",
   "execution_count": 7,
   "metadata": {},
   "outputs": [],
   "source": [
    "ML=np.zeros((NE,1))\n",
    "for i in range(NE):\n",
    "    ML[i,0]=np.sqrt((MC[i][2]-MC[i][0])**2+(MC[i][3]-MC[i][1])**2)\n",
    "  "
   ]
  },
  {
   "cell_type": "markdown",
   "metadata": {},
   "source": [
    "7. Cálculo de la matriz de rigidez local, se sugiere verificar en qué unidades queda definida esta matriz."
   ]
  },
  {
   "cell_type": "code",
   "execution_count": 8,
   "metadata": {},
   "outputs": [],
   "source": [
    "MAL=np.zeros((NE,4,4))\n",
    "for i in range(NE):\n",
    "    MAL[i,0,0]=(MA[i]*ME[i])/(ML[i][0])\n",
    "    MAL[i,2,2]=MAL[i,0,0]\n",
    "    MAL[i,0,2]=-MAL[i,0,0]\n",
    "    MAL[i,2,0]=-MAL[i,0,0]"
   ]
  },
  {
   "cell_type": "markdown",
   "metadata": {},
   "source": [
    "8. Cálculo de la matriz de transformación."
   ]
  },
  {
   "cell_type": "code",
   "execution_count": 9,
   "metadata": {},
   "outputs": [],
   "source": [
    "MAT=np.zeros((NE,4,4))\n",
    "for i in range(NE):\n",
    "    MAT[i,0,0]=(MC[i][2]-MC[i][0])/(ML[i][0])\n",
    "    MAT[i,1,0]=(MC[i][3]-MC[i][1])/(ML[i][0])\n",
    "    MAT[i,2,2]=MAT[i,0,0]\n",
    "    MAT[i,3,2]=MAT[i,1,0]\n",
    "            "
   ]
  },
  {
   "cell_type": "markdown",
   "metadata": {},
   "source": [
    "9. Cálculo de la matriz de rigidez de cada elemento en coordenadas globales."
   ]
  },
  {
   "cell_type": "code",
   "execution_count": 10,
   "metadata": {},
   "outputs": [],
   "source": [
    "MAG=np.zeros((NE,4,4))\n",
    "for i in range(NE):\n",
    "    MAG[i]=np.dot(np.dot(MAT[i],MAL[i]),np.transpose(MAT[i]))  "
   ]
  },
  {
   "cell_type": "markdown",
   "metadata": {},
   "source": [
    "10. Cálculo de la matriz de rigidez de la estructura"
   ]
  },
  {
   "cell_type": "code",
   "execution_count": 11,
   "metadata": {},
   "outputs": [],
   "source": [
    "KG=np.zeros((NGL,NGL))\n",
    "for i in range(NE):\n",
    "    for j in range(4):\n",
    "        for k in range(4):\n",
    "            KG[int(MGL[i][k]-1),int(MGL[i][j]-1)]=KG[int(MGL[i][k]-1)][int(MGL[i][j]-1)]+MAG[i][j][k]"
   ]
  },
  {
   "cell_type": "markdown",
   "metadata": {},
   "source": [
    "11. Subdivisión de la matriz de rigidez global de la estructura. "
   ]
  },
  {
   "cell_type": "code",
   "execution_count": 12,
   "metadata": {},
   "outputs": [],
   "source": [
    "K0 = KG[0:NGLL,0:NGLL]\n",
    "K1 = KG[0:NGLL,NGLL:NGL]\n",
    "K2 = KG[NGLL:NGL,0:NGLL]\n",
    "K3 = KG[NGLL:NGL,NGLL:NGL]\n",
    "      "
   ]
  },
  {
   "cell_type": "markdown",
   "metadata": {},
   "source": [
    "12. Cálculo de reacciones y de desplazamiento en los grados de libertad libres.\n"
   ]
  },
  {
   "cell_type": "code",
   "execution_count": 13,
   "metadata": {},
   "outputs": [],
   "source": [
    "Feff=F0-np.dot(K1,U1)\n",
    "U0=np.dot((np.linalg.inv(K0)),Feff)       \n",
    "F1=np.dot(K2,U0)+np.dot(K3,U1)\n"
   ]
  },
  {
   "cell_type": "markdown",
   "metadata": {},
   "source": [
    "13.Definición de las matrices necesarias para realizar el cálculo de las fuerzas internas de cada elemento. \n",
    "\n"
   ]
  },
  {
   "cell_type": "code",
   "execution_count": 14,
   "metadata": {},
   "outputs": [],
   "source": [
    "U=np.concatenate((U0,U1))\n",
    "MU=np.zeros((NE,4,1)) \n",
    "MFG=np.zeros((NE,4,1))\n",
    "MFL=np.zeros((NE,4,1))\n",
    "FELEM=np.zeros((NE,1))"
   ]
  },
  {
   "cell_type": "markdown",
   "metadata": {},
   "source": [
    "14. Cálculo de las fuerzas internas de cada elemento."
   ]
  },
  {
   "cell_type": "code",
   "execution_count": 15,
   "metadata": {},
   "outputs": [],
   "source": [
    "for i in range(NE):\n",
    "    for j in range(4):\n",
    "        MU[i,j,0]=U[int(MGL[i][j])-1][0]\n",
    "        \n",
    "for i  in range(NE):\n",
    "    MFG[i]=np.dot(MAG[i],MU[i])\n",
    "       \n",
    "for i  in range(NE):\n",
    "    MFL[i]=np.dot(np.transpose(MAT[i]),MFG[i])\n",
    "\n",
    "for i in range(NE):\n",
    "    FELEM[i,0]=-MFL[i,0,0]"
   ]
  },
  {
   "cell_type": "code",
   "execution_count": 16,
   "metadata": {},
   "outputs": [
    {
     "name": "stdout",
     "output_type": "stream",
     "text": [
      "[[-8.33333333]\n",
      " [-8.33333333]\n",
      " [26.66666667]\n",
      " [26.66666667]\n",
      " [10.        ]]\n"
     ]
    }
   ],
   "source": [
    "print(FELEM)"
   ]
  },
  {
   "cell_type": "code",
   "execution_count": null,
   "metadata": {},
   "outputs": [],
   "source": []
  }
 ],
 "metadata": {
  "kernelspec": {
   "display_name": "Python 3",
   "language": "python",
   "name": "python3"
  },
  "language_info": {
   "codemirror_mode": {
    "name": "ipython",
    "version": 3
   },
   "file_extension": ".py",
   "mimetype": "text/x-python",
   "name": "python",
   "nbconvert_exporter": "python",
   "pygments_lexer": "ipython3",
   "version": "3.7.6"
  }
 },
 "nbformat": 4,
 "nbformat_minor": 4
}
