{
 "cells": [
  {
   "cell_type": "markdown",
   "metadata": {},
   "source": [
    "    \n",
    "## *TALLER 1 ANÁLISIS DE ESTRUCTURAS - MATRIZ DE TRANSFORMACIÓN* ##\n",
    "\n",
    "\n",
    "### El objetivo de este taller es construir la matriz de rigidez en coordenadas locales para elementos tipo cercha y mostrar los cambios que ocurren al variar propiedades geométricas o del material.###\n",
    "\n",
    "Para el desarrollo de este taller, usaremos la siguiente estructura de acero en la cual los elementos internos tienen un área de 10 cm<sup>2</sup> y los elementos externos tienen un área de 12 cm<sup>2</sup>.\n",
    "\n"
   ]
  },
  {
   "cell_type": "code",
   "execution_count": 5,
   "metadata": {
    "scrolled": true
   },
   "outputs": [
    {
     "data": {
      "text/html": [
       "<img src=\"Img/Cercha-Taller1.PNG\"/>"
      ],
      "text/plain": [
       "<IPython.core.display.Image object>"
      ]
     },
     "execution_count": 5,
     "metadata": {},
     "output_type": "execute_result"
    }
   ],
   "source": [
    "from IPython.display import Image\n",
    "from IPython.core.display import HTML \n",
    "Image(url= \"Img/Cercha-Taller1.PNG\")"
   ]
  },
  {
   "cell_type": "markdown",
   "metadata": {},
   "source": [
    "Debemos recordar que la matriz de rigidez de un elemento tipo cercha depende solo de tres variables: el área, el módulo de elasticidad y la longitud del elemento. Las unidades en las que ingresemos dichas variables deben ser consistentes entre sí, por lo cual utilizaremos kN y mm.\n",
    "\n",
    "En la siguiente imagen, se muestra la forma que tiene la matriz de rigidez en coordenadas locales, para un elemento tipo cercha:\n"
   ]
  },
  {
   "cell_type": "code",
   "execution_count": 8,
   "metadata": {},
   "outputs": [
    {
     "data": {
      "text/html": [
       "<img src=\"Img/Matriz_cercha_plana.jpg\"/>"
      ],
      "text/plain": [
       "<IPython.core.display.Image object>"
      ]
     },
     "execution_count": 8,
     "metadata": {},
     "output_type": "execute_result"
    }
   ],
   "source": [
    "from IPython.display import Image\n",
    "from IPython.core.display import HTML \n",
    "Image(url= \"Img/Matriz_cercha_plana.jpg\")"
   ]
  },
  {
   "cell_type": "markdown",
   "metadata": {},
   "source": [
    "Ingresemos los valores de área, módulo de elasticidad y longitud en las unidades indicadas:"
   ]
  },
  {
   "cell_type": "code",
   "execution_count": 3,
   "metadata": {},
   "outputs": [],
   "source": [
    "A=700  #mm^2\n",
    "E=200  #GPa\n",
    "L=4000 #mm "
   ]
  },
  {
   "cell_type": "code",
   "execution_count": 4,
   "metadata": {},
   "outputs": [
    {
     "name": "stdout",
     "output_type": "stream",
     "text": [
      "[[ 35.   0. -35.   0.]\n",
      " [  0.   0.   0.   0.]\n",
      " [-35.   0.  35.   0.]\n",
      " [  0.   0.   0.   0.]]\n"
     ]
    }
   ],
   "source": [
    "import numpy as np\n",
    "k=np.zeros((4,4))\n",
    "for i in range(4):\n",
    "    k[0,0]=k[2,2]=A*E/L\n",
    "    k[0,2]=k[2,0]=-k[0,0]    \n",
    "print(k)"
   ]
  },
  {
   "cell_type": "markdown",
   "metadata": {},
   "source": [
    "Debido a que la rigidez tiene unidades de fuerza sobre longitud, con las unidades ingresadas en el programa, la matriz anterior tendría unidades kN/mm.\n",
    "\n",
    "***Es importante resaltar, que esta matriz tiene la misma forma para cualquier elemento, sin importar su orientación. Aunque se debe notar que los valores cambiarán dependiendo del elemento que analicemos.***\n",
    "\n",
    "Cambiemos los valores de las constantes de la matriz para observar la variación de los valores de rigidez de cada elemento. "
   ]
  },
  {
   "cell_type": "code",
   "execution_count": null,
   "metadata": {},
   "outputs": [],
   "source": []
  }
 ],
 "metadata": {
  "kernelspec": {
   "display_name": "Python 3",
   "language": "python",
   "name": "python3"
  },
  "language_info": {
   "codemirror_mode": {
    "name": "ipython",
    "version": 3
   },
   "file_extension": ".py",
   "mimetype": "text/x-python",
   "name": "python",
   "nbconvert_exporter": "python",
   "pygments_lexer": "ipython3",
   "version": "3.7.0"
  }
 },
 "nbformat": 4,
 "nbformat_minor": 2
}
