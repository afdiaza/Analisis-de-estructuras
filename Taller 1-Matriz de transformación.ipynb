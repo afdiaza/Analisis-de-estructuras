{
 "cells": [
  {
   "cell_type": "markdown",
   "metadata": {},
   "source": [
    "<div style=\"text-align:center\"> \n",
    "    \n",
    "## *TALLER 1 ANÁLISIS DE ESTRUCTURAS - MATRIZ DE TRANSFORMACIÓN* ##   \n",
    "    \n",
    "</div>\n",
    "\n",
    "\n",
    "            \n",
    "\n",
    "\n",
    "\n",
    "### El objetivo de este taller es construir la matriz de rigidez en coordenadas locales para elementos tipo cercha o pórtico, y mostrar los cambios que ocurren al variar propiedades geométricas o del material.###\n",
    "\n",
    "    \n",
    "\n",
    "\n"
   ]
  },
  {
   "cell_type": "markdown",
   "metadata": {},
   "source": [
    "Para el siguiente elemento tipo pórtico tridimensional se determinará la matriz de transformación de coordenadas."
   ]
  },
  {
   "cell_type": "code",
   "execution_count": 1,
   "metadata": {},
   "outputs": [
    {
     "data": {
      "text/html": [
       "<img src=\"Img/Portico_tridimensional.PNG\"/>"
      ],
      "text/plain": [
       "<IPython.core.display.Image object>"
      ]
     },
     "execution_count": 1,
     "metadata": {},
     "output_type": "execute_result"
    }
   ],
   "source": [
    "from IPython.display import Image\n",
    "from IPython.core.display import HTML \n",
    "Image(url= \"Img/Portico_tridimensional.PNG\")"
   ]
  },
  {
   "cell_type": "code",
   "execution_count": 2,
   "metadata": {},
   "outputs": [
    {
     "data": {
      "text/html": [
       "<img src=\"Img/Portico_tridimensional1.PNG\"/>"
      ],
      "text/plain": [
       "<IPython.core.display.Image object>"
      ]
     },
     "execution_count": 2,
     "metadata": {},
     "output_type": "execute_result"
    }
   ],
   "source": [
    "from IPython.display import Image\n",
    "from IPython.core.display import HTML \n",
    "Image(url= \"Img/Portico_tridimensional1.PNG\")"
   ]
  },
  {
   "cell_type": "code",
   "execution_count": 3,
   "metadata": {},
   "outputs": [
    {
     "data": {
      "text/html": [
       "<img src=\"Img/Portico_tridimensional2.PNG\"/>"
      ],
      "text/plain": [
       "<IPython.core.display.Image object>"
      ]
     },
     "execution_count": 3,
     "metadata": {},
     "output_type": "execute_result"
    }
   ],
   "source": [
    "from IPython.display import Image\n",
    "from IPython.core.display import HTML \n",
    "Image(url= \"Img/Portico_tridimensional2.PNG\")"
   ]
  },
  {
   "cell_type": "markdown",
   "metadata": {},
   "source": [
    "Se debe definir las coordenadas del nudo inicial N<sub>i</sub>, y del nudo final N<sub>f</sub> del vector x"
   ]
  },
  {
   "cell_type": "code",
   "execution_count": 4,
   "metadata": {},
   "outputs": [],
   "source": [
    "Nix=5\n",
    "Niy=3\n",
    "Niz=5\n",
    "Nfx=10\n",
    "Nfy=6\n",
    "Nfz=8"
   ]
  },
  {
   "cell_type": "markdown",
   "metadata": {},
   "source": [
    "A partir de las coordenadas del vector x, se calculará la longitud del vector utilizando el teorema de Pitágoras:"
   ]
  },
  {
   "cell_type": "code",
   "execution_count": 5,
   "metadata": {},
   "outputs": [
    {
     "name": "stdout",
     "output_type": "stream",
     "text": [
      "6.557438524302\n"
     ]
    }
   ],
   "source": [
    "L1=((Nfx-Nix)**2+(Nfy-Niy)**2+(Nfz-Niz)**2)**0.5\n",
    "print(L1)"
   ]
  },
  {
   "cell_type": "markdown",
   "metadata": {},
   "source": [
    "El vector unitario x se calculará a partir de las componentes del vector en cada dirección y de su longitud tal y como sigue"
   ]
  },
  {
   "cell_type": "code",
   "execution_count": 6,
   "metadata": {},
   "outputs": [
    {
     "name": "stdout",
     "output_type": "stream",
     "text": [
      "x= 0.7624928516630234 i + 0.457495710997814 j + 0.457495710997814 z\n"
     ]
    }
   ],
   "source": [
    "x1=(Nfx-Nix)/L1\n",
    "y1=(Nfy-Niy)/L1\n",
    "z1=(Nfz-Niz)/L1\n",
    "print(\"x=\",x1,\"i +\",y1,\"j +\",z1,\"z\")\n"
   ]
  },
  {
   "cell_type": "markdown",
   "metadata": {},
   "source": [
    "Definir y calcular un vector auxiliar unitario x’ que no sea paralelo a x y que x y x’ conformen\n",
    "un plano dentro del cual se encuentre el eje local y. El eje local z es perpendicular al plano\n",
    "formado por x y x’, formado por un sistema de mano derecha con x y x’.\n"
   ]
  },
  {
   "cell_type": "markdown",
   "metadata": {},
   "source": [
    "¿En qué plano se ubica el vector x’? "
   ]
  },
  {
   "cell_type": "markdown",
   "metadata": {},
   "source": [
    "Definir las coordenadas del nudo inicial y del nudo final del vector x'"
   ]
  },
  {
   "cell_type": "code",
   "execution_count": 7,
   "metadata": {},
   "outputs": [],
   "source": [
    "nix=10\n",
    "niy=6\n",
    "niz=0\n",
    "nfx=5\n",
    "nfy=3\n",
    "nfz=5"
   ]
  },
  {
   "cell_type": "markdown",
   "metadata": {},
   "source": [
    "Notese la diferencia entre las variables definidas para las coordenadas del vector x y del vector x'."
   ]
  },
  {
   "cell_type": "markdown",
   "metadata": {},
   "source": [
    "De igual manera, se calculará la longitud de dicho vector y el vector unitario."
   ]
  },
  {
   "cell_type": "code",
   "execution_count": 8,
   "metadata": {},
   "outputs": [
    {
     "name": "stdout",
     "output_type": "stream",
     "text": [
      "7.681145747868608\n"
     ]
    }
   ],
   "source": [
    "L2=((nfx-nix)**2+(nfy-niy)**2+(nfz-niz)**2)**0.5\n",
    "print(L2)"
   ]
  },
  {
   "cell_type": "code",
   "execution_count": 9,
   "metadata": {},
   "outputs": [
    {
     "name": "stdout",
     "output_type": "stream",
     "text": [
      "x'= -0.6509445549041194 i + -0.39056673294247163 j + 0.6509445549041194 z\n"
     ]
    }
   ],
   "source": [
    "x2=(nfx-nix)/L2\n",
    "y2=(nfy-niy)/L2\n",
    "z2=(nfz-niz)/L2\n",
    "print(\"x'=\",x2,\"i +\",y2,\"j +\",z2,\"z\")"
   ]
  },
  {
   "cell_type": "markdown",
   "metadata": {},
   "source": [
    "A partir de los vectores x y x' se calculará el vector z, por medio del producto cruz entre ambos vectores"
   ]
  },
  {
   "cell_type": "code",
   "execution_count": 10,
   "metadata": {},
   "outputs": [
    {
     "name": "stdout",
     "output_type": "stream",
     "text": [
      "z= 0.4764869471456251 i + -0.7941449119093752 j + 0.0 z\n"
     ]
    }
   ],
   "source": [
    "x3=y1*z2-z1*y2\n",
    "y3=-(x1*z2-z1*x2)\n",
    "z3=x1*y2-y1*x2\n",
    "print(\"z=\",x3,\"i +\",y3,\"j +\",z3,\"z\")"
   ]
  },
  {
   "cell_type": "markdown",
   "metadata": {},
   "source": [
    "A partir del vactor z' se calculará su respectivo vector unitario"
   ]
  },
  {
   "cell_type": "code",
   "execution_count": 11,
   "metadata": {},
   "outputs": [
    {
     "name": "stdout",
     "output_type": "stream",
     "text": [
      "0.9261241557759451\n"
     ]
    }
   ],
   "source": [
    "L3=(x3**2+y3**2+z3**2)**0.5\n",
    "print(L3)"
   ]
  },
  {
   "cell_type": "code",
   "execution_count": 12,
   "metadata": {
    "scrolled": true
   },
   "outputs": [
    {
     "name": "stdout",
     "output_type": "stream",
     "text": [
      "z= 0.5144957554275266 i + -0.8574929257125442 j + 0.0 z\n"
     ]
    }
   ],
   "source": [
    "print(\"z=\",x3/L3,\"i +\",y3/L3,\"j +\",z3/L3,\"z\")"
   ]
  },
  {
   "cell_type": "markdown",
   "metadata": {},
   "source": [
    "Conociendo el vector z, se calcula el vector y, definido como el producto cruz entre z y x"
   ]
  },
  {
   "cell_type": "code",
   "execution_count": 21,
   "metadata": {},
   "outputs": [
    {
     "name": "stdout",
     "output_type": "stream",
     "text": [
      "y= -0.39229933572445613 i + -0.23537960143467368 j + 0.8892118276421006 z\n"
     ]
    }
   ],
   "source": [
    "x4=y3*z1/L3-z3/L3*y1\n",
    "y4=-(x3*z1/L3-z3*x1/L3)\n",
    "z4=x3*y1/L3-y3*x1/L3\n",
    "print(\"y=\",x4,\"i +\",y4,\"j +\",z4,\"z\")"
   ]
  },
  {
   "cell_type": "code",
   "execution_count": 22,
   "metadata": {},
   "outputs": [
    {
     "name": "stdout",
     "output_type": "stream",
     "text": [
      "1.0\n"
     ]
    }
   ],
   "source": [
    "L4=(x4**2+y4**2+z4**2)**0.5\n",
    "print(L4)"
   ]
  },
  {
   "cell_type": "code",
   "execution_count": 23,
   "metadata": {},
   "outputs": [
    {
     "name": "stdout",
     "output_type": "stream",
     "text": [
      "y= -0.39229933572445613 i + -0.23537960143467368 j + 0.8892118276421006 z\n"
     ]
    }
   ],
   "source": [
    "print(\"y=\",x4/L4,\"i +\",y4/L4,\"j +\",z4/L4,\"z\")"
   ]
  },
  {
   "cell_type": "markdown",
   "metadata": {},
   "source": [
    "Para el desarrollo de la segunda parte del taller, usaremos la siguiente estructura de acero en la cual los elementos internos tienen un área de 10 cm<sup>2</sup> y los elementos externos tienen un área de 12 cm<sup>2</sup>."
   ]
  },
  {
   "cell_type": "code",
   "execution_count": 14,
   "metadata": {
    "scrolled": false
   },
   "outputs": [
    {
     "data": {
      "text/html": [
       "<img src=\"Img/Cercha-Taller1.PNG\"/>"
      ],
      "text/plain": [
       "<IPython.core.display.Image object>"
      ]
     },
     "execution_count": 14,
     "metadata": {},
     "output_type": "execute_result"
    }
   ],
   "source": [
    "from IPython.display import Image\n",
    "from IPython.core.display import HTML \n",
    "Image(url= \"Img/Cercha-Taller1.PNG\")"
   ]
  },
  {
   "cell_type": "markdown",
   "metadata": {},
   "source": [
    "Debemos recordar que la matriz de rigidez de un elemento tipo cercha depende solo de tres variables: el área, el módulo de elasticidad y la longitud del elemento. Las unidades en las que ingresemos dichas variables deben ser consistentes entre sí, por lo cual utilizaremos kN y mm.\n",
    "\n",
    "En la siguiente imagen, se muestra la forma que tiene la matriz de rigidez en coordenadas locales, para un elemento tipo cercha:\n"
   ]
  },
  {
   "cell_type": "code",
   "execution_count": 15,
   "metadata": {},
   "outputs": [
    {
     "data": {
      "text/html": [
       "<img src=\"Img/Matriz_cercha_plana.jpg\"/>"
      ],
      "text/plain": [
       "<IPython.core.display.Image object>"
      ]
     },
     "execution_count": 15,
     "metadata": {},
     "output_type": "execute_result"
    }
   ],
   "source": [
    "from IPython.display import Image\n",
    "from IPython.core.display import HTML \n",
    "Image(url= \"Img/Matriz_cercha_plana.jpg\")"
   ]
  },
  {
   "cell_type": "markdown",
   "metadata": {},
   "source": [
    "Ingresemos los valores de área, módulo de elasticidad y longitud en las unidades indicadas:"
   ]
  },
  {
   "cell_type": "code",
   "execution_count": 16,
   "metadata": {},
   "outputs": [],
   "source": [
    "A=700  #mm^2\n",
    "E=200  #GPa\n",
    "L=4000 #mm "
   ]
  },
  {
   "cell_type": "code",
   "execution_count": 17,
   "metadata": {},
   "outputs": [
    {
     "name": "stdout",
     "output_type": "stream",
     "text": [
      "[[ 35.   0. -35.   0.]\n",
      " [  0.   0.   0.   0.]\n",
      " [-35.   0.  35.   0.]\n",
      " [  0.   0.   0.   0.]]\n"
     ]
    }
   ],
   "source": [
    "import numpy as np\n",
    "k=np.zeros((4,4))\n",
    "for i in range(4):\n",
    "    k[0,0]=k[2,2]=A*E/L\n",
    "    k[0,2]=k[2,0]=-k[0,0]    \n",
    "print(k)"
   ]
  },
  {
   "cell_type": "markdown",
   "metadata": {},
   "source": [
    "Debido a que la rigidez tiene unidades de fuerza sobre longitud, con las unidades ingresadas en el programa, la matriz anterior tendría unidades kN/mm.\n",
    "\n",
    "***Es importante resaltar, que esta matriz tiene la misma forma para cualquier elemento, sin importar su orientación. Aunque se debe notar que los valores cambiarán dependiendo del elemento que analicemos.***\n",
    "\n",
    "Cambiemos los valores de las constantes de la matriz para observar la variación de los valores de rigidez de cada elemento. "
   ]
  },
  {
   "cell_type": "code",
   "execution_count": null,
   "metadata": {},
   "outputs": [],
   "source": []
  }
 ],
 "metadata": {
  "kernelspec": {
   "display_name": "Python 3",
   "language": "python",
   "name": "python3"
  },
  "language_info": {
   "codemirror_mode": {
    "name": "ipython",
    "version": 3
   },
   "file_extension": ".py",
   "mimetype": "text/x-python",
   "name": "python",
   "nbconvert_exporter": "python",
   "pygments_lexer": "ipython3",
   "version": "3.7.0"
  }
 },
 "nbformat": 4,
 "nbformat_minor": 2
}
