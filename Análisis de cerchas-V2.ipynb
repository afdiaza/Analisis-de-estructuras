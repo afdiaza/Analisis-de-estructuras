{
 "cells": [
  {
   "cell_type": "markdown",
   "metadata": {},
   "source": [
    "Contenido bajo licencia Creative Commons BY-NC-ND. El contenido de este Notebook es creado por Ana Beatriz Acevedo Jaramillo y Daniela González González 2020. Este material es parte del curso Análisis de Estructuras del programa de Ingeniería Civil de la Universidad EAFIT."
   ]
  },
  {
   "cell_type": "markdown",
   "metadata": {},
   "source": [
    "<img src= \n",
    "\"http://www.eafit.edu.co/biblioteca/PublishingImages/logos/eafit_apa.jpg\" \n",
    "         alt=\"GeeksforGeeks logo\" \n",
    "         align=\"left\">"
   ]
  },
  {
   "cell_type": "markdown",
   "metadata": {},
   "source": [
    "# *Análisis matricial de cerchas planas*"
   ]
  },
  {
   "cell_type": "markdown",
   "metadata": {},
   "source": [
    "<p style='text-align: justify;'> El siguiente programa fue desarrollado como parte del material de apoyo para realizar el análisis de cerchas planas. Debe tener en cuenta que los datos de entrada que aparecen en el programa por defecto corresponden al ejercicio explicado en el documento de word del anexo.</p>"
   ]
  },
  {
   "cell_type": "markdown",
   "metadata": {},
   "source": [
    "### Sección de datos de entrada"
   ]
  },
  {
   "cell_type": "markdown",
   "metadata": {},
   "source": [
    "<p style='text-align: justify;'> Esta sección contiene todas las matrices y datos que el programa utiliza para realizar el cálculo de las fuerzas internas, reacciones, etc. Estos datos pueden ser modificados dependiendo de la estructura tipo cercha que se desee analizar.</p>"
   ]
  },
  {
   "cell_type": "code",
   "execution_count": 1,
   "metadata": {},
   "outputs": [],
   "source": [
    "import numpy as np\n",
    "import xlrd \n",
    "from matplotlib import pyplot as plt\n",
    "\n",
    "doc= xlrd.open_workbook('Datos_Programa.xlsx')\n",
    "worksheet= doc.sheet_by_name(\"Cercha\")\n"
   ]
  },
  {
   "cell_type": "markdown",
   "metadata": {},
   "source": [
    "1.En la próxima celda se importa el valor de cada variable teniendo en cuenta la siguiente definición:\n",
    "\n",
    "* Nn=Número de nodos\n",
    "* NE=Número de elementos\n",
    "* NGL=Número de grados de libertad\n",
    "* NGLL=Número de grados de libertad libres\n",
    "* NGLR=Número de grados de libertad restringidos"
   ]
  },
  {
   "cell_type": "code",
   "execution_count": 2,
   "metadata": {},
   "outputs": [],
   "source": [
    "Nn= int(worksheet.cell_value(1,2)) \n",
    "NE=int(worksheet.cell_value(2,2)) \n",
    "NGL=int(worksheet.cell_value(3,2)) \n",
    "NGLL=int(worksheet.cell_value(4,2)) \n",
    "NGLR=int(worksheet.cell_value(5,2))"
   ]
  },
  {
   "cell_type": "markdown",
   "metadata": {},
   "source": [
    "2. La siguiente celda importa la matriz de grados de libertad tal y como se muestra en la siguiente imagen:"
   ]
  },
  {
   "cell_type": "markdown",
   "metadata": {},
   "source": [
    "\\begin{bmatrix}\n",
    "gxi_{0} &gyi_{0} &gxf_{0} &gyf_{0}\\\\\n",
    "gxi_{1} &gyi_{1} &gxf_{1} &gyf_{1}\\\\\n",
    "gxi_{2} &gyi_{2} &gxf_{2} &gyf_{2}\\\\\n",
    "gxi_{n} &gyi_{n} &gxf_{n} &gyf_{n}\\end{bmatrix}\n"
   ]
  },
  {
   "cell_type": "code",
   "execution_count": 3,
   "metadata": {},
   "outputs": [],
   "source": [
    "MGL=np.zeros((NE,4))\n",
    "for i in range (NE):\n",
    "    for j in range(4):\n",
    "        MGL[i,j]=int(worksheet.cell_value(i+1,4+j))\n"
   ]
  },
  {
   "cell_type": "markdown",
   "metadata": {},
   "source": [
    "3. La siguiente celda importa las matrices de propiedades de los elementos. MA corresponde a la matriz de almacenamiento de áreas y ME a la matriz de almacenamiento de  módulos de elasticidad. Recuerde ser consistente con las unidades, para este ejercicio se usarán áreas en mm<sup>2</sup> y módulos en GPa."
   ]
  },
  {
   "cell_type": "markdown",
   "metadata": {},
   "source": [
    "\n",
    "\\begin{bmatrix}\n",
    "A_{0}\\\\A_{1}\\\\A_{2}\\\\A_{n}\\end{bmatrix}\n"
   ]
  },
  {
   "cell_type": "markdown",
   "metadata": {},
   "source": [
    "\n",
    "\\begin{bmatrix}\n",
    "E_{0}\\\\E_{1}\\\\E_{2}\\\\E_{n}\\end{bmatrix}\n"
   ]
  },
  {
   "cell_type": "code",
   "execution_count": 4,
   "metadata": {},
   "outputs": [],
   "source": [
    "MA=np.zeros((NE,1))\n",
    "ME=np.zeros((NE,1))\n",
    "\n",
    "for i in range(NE):\n",
    "    MA[i,0]=float(worksheet.cell_value(i+1,9))\n",
    "    ME[i,0]=float(worksheet.cell_value(i+1,10))\n",
    "    "
   ]
  },
  {
   "cell_type": "markdown",
   "metadata": {},
   "source": [
    "4. La siguiente celda importa la matriz de coordenadas de la estructura tal y como se muestra en la siguiente figura. Para este ejercicio, las distancias serán ingresadas en mm."
   ]
  },
  {
   "cell_type": "markdown",
   "metadata": {},
   "source": [
    "\\begin{bmatrix}\n",
    "xi_{0} &yi_{0} &xf_{0} &yf_{0}\\\\\n",
    "xi_{1} &yi_{1} &xf_{1} &yf_{1}\\\\\n",
    "xi_{2} &yi_{2} &xf_{2} &yf_{2}\\\\\n",
    "xi_{n} &yi_{n} &xf_{n} &yf_{n}\\end{bmatrix}\n"
   ]
  },
  {
   "cell_type": "code",
   "execution_count": 5,
   "metadata": {},
   "outputs": [],
   "source": [
    "MC=np.zeros((NE,4))\n",
    "for i in range(NE):\n",
    "    for j in range(4):\n",
    "        MC[i,j]=float(worksheet.cell_value(i+1,12+j))\n"
   ]
  },
  {
   "cell_type": "markdown",
   "metadata": {},
   "source": [
    "5. La siguiente celda importa la matriz de cargas en los nodos y la matriz de desplazamiento en los grados de libertad restringidos. Para este ejercicio, se ingresaron las cargas en kN y los desplazamientos en mm."
   ]
  },
  {
   "cell_type": "code",
   "execution_count": 6,
   "metadata": {},
   "outputs": [],
   "source": [
    "F0=np.zeros((NGLL,1))#Fuerzas externas sobre los grados de libertad libres\n",
    "U1=np.zeros((NGLR,1))#Desplazamientos en las reacciones\n",
    "   \n",
    "for i in range(NGLL):\n",
    "    F0[i,0]=float(worksheet.cell_value(i+1,17))\n",
    "\n",
    "for i in range(NGLR):\n",
    "    U1[i,0]=float(worksheet.cell_value(i+NGLL+1,19))\n",
    "   "
   ]
  },
  {
   "cell_type": "markdown",
   "metadata": {},
   "source": [
    "### Sección de procesamiento de datos "
   ]
  },
  {
   "cell_type": "markdown",
   "metadata": {},
   "source": [
    "<p style='text-align: justify;'> En esta sección, el programa procesa los datos ingresados en las matrices de la sección de entrada de datos para realizar los cálculos necesarios. Se sugiere no modificar ninguna línea de código, a menos que se esté seguro del cambio a realizar, ya que esto puede dañar el programa y provocar que los resultados obtenidos no sean correctos. </p>"
   ]
  },
  {
   "cell_type": "markdown",
   "metadata": {},
   "source": [
    "6. Cálculo de la matriz de longitud. "
   ]
  },
  {
   "cell_type": "code",
   "execution_count": 7,
   "metadata": {},
   "outputs": [],
   "source": [
    "ML=np.zeros((NE,1))\n",
    "for i in range(NE):\n",
    "    ML[i,0]=np.sqrt((worksheet.cell_value(i+1,14)-worksheet.cell_value(i+1,12))**2+(worksheet.cell_value(i+1,15)-worksheet.cell_value(i+1,13))**2)\n"
   ]
  },
  {
   "cell_type": "code",
   "execution_count": 8,
   "metadata": {},
   "outputs": [
    {
     "name": "stderr",
     "output_type": "stream",
     "text": [
      "C:\\Users\\andre\\Anaconda3\\lib\\site-packages\\ipykernel_launcher.py:2: RuntimeWarning: divide by zero encountered in double_scalars\n",
      "  \n"
     ]
    },
    {
     "data": {
      "image/png": "[encoded data removed]",
      "text/plain": [
       "<Figure size 432x288 with 1 Axes>"
      ]
     },
     "metadata": {
      "needs_background": "light"
     },
     "output_type": "display_data"
    }
   ],
   "source": [
    "for i in range (NE):\n",
    "    angle=np.arctan((MC[i,1]-MC[i,3])/(MC[i,0]-MC[i,2]))\n",
    "    angle=angle*180/np.pi\n",
    "    plt.plot([MC[i,0],MC[i,2]],[MC[i,1],MC[i,3]],marker='o')\n",
    "    plt.text(MC[i,0]+(MC[i,2]-MC[i,0])/2,MC[i,1]+(MC[i,3]-MC[i,1])/2,np.round(float(ML[i]),decimals=0),rotation=angle, rotation_mode='anchor')\n",
    "plt.grid()\n",
    "plt.gca().set_aspect('equal', adjustable = 'box')\n"
   ]
  },
  {
   "cell_type": "markdown",
   "metadata": {},
   "source": [
    "7. Cálculo de la matriz de rigidez local, se sugiere verificar en qué unidades queda definida esta matriz."
   ]
  },
  {
   "cell_type": "code",
   "execution_count": 9,
   "metadata": {},
   "outputs": [],
   "source": [
    "MAL=np.zeros((NE,4,4))\n",
    "for i in range(NE):\n",
    "    MAL[i,0,0]=(MA[i]*ME[i])/(ML[i][0])\n",
    "    MAL[i,2,2]=MAL[i,0,0]\n",
    "    MAL[i,0,2]=-MAL[i,0,0]\n",
    "    MAL[i,2,0]=-MAL[i,0,0]"
   ]
  },
  {
   "cell_type": "markdown",
   "metadata": {},
   "source": [
    "Modifique el valor de n del siguiente recuadro para visualizar la matriz de rigidez local del elemento que desee."
   ]
  },
  {
   "cell_type": "code",
   "execution_count": 10,
   "metadata": {},
   "outputs": [],
   "source": [
    "n=0"
   ]
  },
  {
   "cell_type": "code",
   "execution_count": 11,
   "metadata": {},
   "outputs": [
    {
     "name": "stdout",
     "output_type": "stream",
     "text": [
      "[[ 35.35533906   0.         -35.35533906   0.        ]\n",
      " [  0.           0.           0.           0.        ]\n",
      " [-35.35533906   0.          35.35533906   0.        ]\n",
      " [  0.           0.           0.           0.        ]]\n"
     ]
    }
   ],
   "source": [
    "print(np.array(MAL[n]))"
   ]
  },
  {
   "cell_type": "markdown",
   "metadata": {},
   "source": [
    "8. Cálculo de la matriz de transformación."
   ]
  },
  {
   "cell_type": "code",
   "execution_count": 12,
   "metadata": {},
   "outputs": [],
   "source": [
    "MAT=np.zeros((NE,4,4))\n",
    "for i in range(NE):\n",
    "    MAT[i,0,0]=(MC[i][2]-MC[i][0])/(ML[i][0])\n",
    "    MAT[i,1,0]=(MC[i][3]-MC[i][1])/(ML[i][0])\n",
    "    MAT[i,2,2]=MAT[i,0,0]\n",
    "    MAT[i,3,2]=MAT[i,1,0]\n",
    "            "
   ]
  },
  {
   "cell_type": "markdown",
   "metadata": {},
   "source": [
    "Modifique el valor de n del siguiente recuadro para visualizar la matriz de transformación del elemento que desee."
   ]
  },
  {
   "cell_type": "code",
   "execution_count": 13,
   "metadata": {},
   "outputs": [],
   "source": [
    "n=0"
   ]
  },
  {
   "cell_type": "code",
   "execution_count": 14,
   "metadata": {},
   "outputs": [
    {
     "name": "stdout",
     "output_type": "stream",
     "text": [
      "[[0.70710678 0.         0.         0.        ]\n",
      " [0.70710678 0.         0.         0.        ]\n",
      " [0.         0.         0.70710678 0.        ]\n",
      " [0.         0.         0.70710678 0.        ]]\n"
     ]
    }
   ],
   "source": [
    "print(np.array(MAT[n]))"
   ]
  },
  {
   "cell_type": "markdown",
   "metadata": {},
   "source": [
    "9. Cálculo de la matriz de rigidez de cada elemento en coordenadas globales."
   ]
  },
  {
   "cell_type": "code",
   "execution_count": 15,
   "metadata": {},
   "outputs": [],
   "source": [
    "MAG=np.zeros((NE,4,4))\n",
    "for i in range(NE):\n",
    "    MAG[i]=np.dot(np.dot(MAT[i],MAL[i]),np.transpose(MAT[i]))  "
   ]
  },
  {
   "cell_type": "markdown",
   "metadata": {},
   "source": [
    "Modifique el valor de n del siguiente recuadro para visualizar la matriz de rigidez en coordenadas globales del elemento que desee."
   ]
  },
  {
   "cell_type": "code",
   "execution_count": 16,
   "metadata": {},
   "outputs": [],
   "source": [
    "n=0"
   ]
  },
  {
   "cell_type": "code",
   "execution_count": 17,
   "metadata": {},
   "outputs": [
    {
     "name": "stdout",
     "output_type": "stream",
     "text": [
      "[[ 17.67766953  17.67766953 -17.67766953 -17.67766953]\n",
      " [ 17.67766953  17.67766953 -17.67766953 -17.67766953]\n",
      " [-17.67766953 -17.67766953  17.67766953  17.67766953]\n",
      " [-17.67766953 -17.67766953  17.67766953  17.67766953]]\n"
     ]
    }
   ],
   "source": [
    "print(np.array(MAG[n]))"
   ]
  },
  {
   "cell_type": "markdown",
   "metadata": {},
   "source": [
    "10. Cálculo de la matriz de rigidez de la estructura"
   ]
  },
  {
   "cell_type": "code",
   "execution_count": 18,
   "metadata": {},
   "outputs": [],
   "source": [
    "KG=np.zeros((NGL,NGL))\n",
    "for i in range(NE):\n",
    "    for j in range(4):\n",
    "        for k in range(4):\n",
    "            KG[int(MGL[i][k]-1),int(MGL[i][j]-1)]=KG[int(MGL[i][k]-1)][int(MGL[i][j]-1)]+MAG[i][j][k]"
   ]
  },
  {
   "cell_type": "code",
   "execution_count": 19,
   "metadata": {},
   "outputs": [
    {
     "name": "stdout",
     "output_type": "stream",
     "text": [
      "[[ 44.19417382   8.83883476  -8.83883476  -8.83883476   0.\n",
      "    0.         -17.67766953  17.67766953   0.           0.\n",
      "    0.           0.           0.           0.         -17.67766953\n",
      "  -17.67766953]\n",
      " [  8.83883476  44.19417382  -8.83883476  -8.83883476   0.\n",
      "    0.          17.67766953 -17.67766953   0.           0.\n",
      "    0.           0.           0.           0.         -17.67766953\n",
      "  -17.67766953]\n",
      " [ -8.83883476  -8.83883476  20.83994719   0.          -8.83883476\n",
      "    8.83883476  -1.58113883  -4.74341649   0.           0.\n",
      "   -1.58113883   4.74341649   0.           0.           0.\n",
      "    0.        ]\n",
      " [ -8.83883476  -8.83883476   0.          62.80483514   8.83883476\n",
      "   -8.83883476  -4.74341649 -14.23024947   0.         -16.66666667\n",
      "    4.74341649 -14.23024947   0.           0.           0.\n",
      "    0.        ]\n",
      " [  0.           0.          -8.83883476   8.83883476  44.19417382\n",
      "   -8.83883476   0.           0.           0.           0.\n",
      "  -17.67766953 -17.67766953 -17.67766953  17.67766953   0.\n",
      "    0.        ]\n",
      " [  0.           0.           8.83883476  -8.83883476  -8.83883476\n",
      "   44.19417382   0.           0.           0.           0.\n",
      "  -17.67766953 -17.67766953  17.67766953 -17.67766953   0.\n",
      "    0.        ]\n",
      " [-17.67766953  17.67766953  -1.58113883  -4.74341649   0.\n",
      "    0.          94.25880836 -12.93425304 -50.           0.\n",
      "    0.           0.           0.           0.         -25.\n",
      "    0.        ]\n",
      " [ 17.67766953 -17.67766953  -4.74341649 -14.23024947   0.\n",
      "    0.         -12.93425304  31.907919     0.           0.\n",
      "    0.           0.           0.           0.           0.\n",
      "    0.        ]\n",
      " [  0.           0.           0.           0.           0.\n",
      "    0.         -50.           0.         100.           0.\n",
      "  -50.           0.           0.           0.           0.\n",
      "    0.        ]\n",
      " [  0.           0.           0.         -16.66666667   0.\n",
      "    0.           0.           0.           0.          16.66666667\n",
      "    0.           0.           0.           0.           0.\n",
      "    0.        ]\n",
      " [  0.           0.          -1.58113883   4.74341649 -17.67766953\n",
      "  -17.67766953   0.           0.         -50.           0.\n",
      "   94.25880836  12.93425304 -25.           0.           0.\n",
      "    0.        ]\n",
      " [  0.           0.           4.74341649 -14.23024947 -17.67766953\n",
      "  -17.67766953   0.           0.           0.           0.\n",
      "   12.93425304  31.907919     0.           0.           0.\n",
      "    0.        ]\n",
      " [  0.           0.           0.           0.         -17.67766953\n",
      "   17.67766953   0.           0.           0.           0.\n",
      "  -25.           0.          42.67766953 -17.67766953   0.\n",
      "    0.        ]\n",
      " [  0.           0.           0.           0.          17.67766953\n",
      "  -17.67766953   0.           0.           0.           0.\n",
      "    0.           0.         -17.67766953  17.67766953   0.\n",
      "    0.        ]\n",
      " [-17.67766953 -17.67766953   0.           0.           0.\n",
      "    0.         -25.           0.           0.           0.\n",
      "    0.           0.           0.           0.          42.67766953\n",
      "   17.67766953]\n",
      " [-17.67766953 -17.67766953   0.           0.           0.\n",
      "    0.           0.           0.           0.           0.\n",
      "    0.           0.           0.           0.          17.67766953\n",
      "   17.67766953]]\n"
     ]
    }
   ],
   "source": [
    "print(np.array(KG))"
   ]
  },
  {
   "cell_type": "markdown",
   "metadata": {},
   "source": [
    "11. Subdivisión de la matriz de rigidez global de la estructura. "
   ]
  },
  {
   "cell_type": "code",
   "execution_count": 20,
   "metadata": {},
   "outputs": [],
   "source": [
    "K0 = KG[0:NGLL,0:NGLL]\n",
    "K1 = KG[0:NGLL,NGLL:NGL]\n",
    "K2 = KG[NGLL:NGL,0:NGLL]\n",
    "K3 = KG[NGLL:NGL,NGLL:NGL]\n",
    "      "
   ]
  },
  {
   "cell_type": "markdown",
   "metadata": {},
   "source": [
    "12. Cálculo de reacciones y de desplazamiento en los grados de libertad libres.\n"
   ]
  },
  {
   "cell_type": "code",
   "execution_count": 21,
   "metadata": {},
   "outputs": [],
   "source": [
    "Feff=F0-np.dot(K1,U1)\n",
    "U0=np.dot((np.linalg.inv(K0)),Feff)       \n",
    "F1=np.dot(K2,U0)+np.dot(K3,U1)\n"
   ]
  },
  {
   "cell_type": "markdown",
   "metadata": {},
   "source": [
    "13.Definición de las matrices necesarias para realizar el cálculo de las fuerzas internas de cada elemento. \n",
    "\n"
   ]
  },
  {
   "cell_type": "code",
   "execution_count": 22,
   "metadata": {},
   "outputs": [],
   "source": [
    "U=np.concatenate((U0,U1))\n",
    "MU=np.zeros((NE,4,1)) \n",
    "MFG=np.zeros((NE,4,1))\n",
    "MFL=np.zeros((NE,4,1))\n",
    "FELEM=np.zeros((NE,1))"
   ]
  },
  {
   "cell_type": "markdown",
   "metadata": {},
   "source": [
    "14. Cálculo de las fuerzas internas de cada elemento."
   ]
  },
  {
   "cell_type": "code",
   "execution_count": 23,
   "metadata": {},
   "outputs": [],
   "source": [
    "for i in range(NE):\n",
    "    for j in range(4):\n",
    "        MU[i,j,0]=U[int(MGL[i][j])-1][0]\n",
    "        \n",
    "for i  in range(NE):\n",
    "    MFG[i]=np.dot(MAG[i],MU[i])\n",
    "       \n",
    "for i  in range(NE):\n",
    "    MFL[i]=np.dot(np.transpose(MAT[i]),MFG[i])\n",
    "\n",
    "for i in range(NE):\n",
    "    FELEM[i,0]=-MFL[i,0,0]"
   ]
  },
  {
   "cell_type": "code",
   "execution_count": 24,
   "metadata": {},
   "outputs": [
    {
     "name": "stderr",
     "output_type": "stream",
     "text": [
      "C:\\Users\\andre\\Anaconda3\\lib\\site-packages\\ipykernel_launcher.py:2: RuntimeWarning: divide by zero encountered in double_scalars\n",
      "  \n"
     ]
    },
    {
     "data": {
      "image/png": "[encoded data removed]",
      "text/plain": [
       "<Figure size 432x288 with 1 Axes>"
      ]
     },
     "metadata": {
      "needs_background": "light"
     },
     "output_type": "display_data"
    }
   ],
   "source": [
    "\n",
    "for i in range (NE):\n",
    "    angle=np.arctan((MC[i,1]-MC[i,3])/(MC[i,0]-MC[i,2]))\n",
    "    angle=angle*180/np.pi\n",
    "    plt.plot([MC[i,0],MC[i,2]],[MC[i,1],MC[i,3]])\n",
    "    plt.text(MC[i,0]+(MC[i,2]-MC[i,0])/2,MC[i,1]+(MC[i,3]-MC[i,1])/2,np.round(float(FELEM[i]),decimals=2),rotation=angle, rotation_mode='anchor')\n",
    "plt.grid()\n",
    "plt.gca().set_aspect('equal', adjustable = 'box')\n"
   ]
  },
  {
   "cell_type": "code",
   "execution_count": 25,
   "metadata": {},
   "outputs": [
    {
     "data": {
      "image/png": "[encoded data removed]",
      "text/plain": [
       "<Figure size 432x288 with 1 Axes>"
      ]
     },
     "metadata": {
      "needs_background": "light"
     },
     "output_type": "display_data"
    }
   ],
   "source": [
    "for i in range (NE):\n",
    "    plt.plot([MC[i,0]+MU[i,0]*100,MC[i,2]+MU[i,2]*100],[MC[i,1]+MU[i,1]*100,MC[i,3]+MU[i,3]*100],linestyle='--')\n",
    "    plt.plot([MC[i,0],MC[i,2]],[MC[i,1],MC[i,3]],marker='o')\n",
    "plt.grid()\n",
    "plt.plot([MC[0,0]+MU[0,0]*100,MC[0,2]+MU[0,2]*100],[MC[0,1]+MU[0,1]*100,MC[0,3]+MU[0,3]*100],linestyle='--',label = \"Estructura deformada\")\n",
    "plt.plot([MC[0,0],MC[0,2]],[MC[0,1],MC[0,3]],marker='o', label = \"Estructura sin deformar\")\n",
    "plt.legend(loc=\"upper left\")\n",
    "plt.gca().set_aspect('equal', adjustable = 'box')\n",
    "plt.legend(bbox_to_anchor=(1.05, 1), loc='upper left', borderaxespad=0.)\n",
    "\n",
    "plt.show()"
   ]
  },
  {
   "cell_type": "code",
   "execution_count": null,
   "metadata": {},
   "outputs": [],
   "source": []
  }
 ],
 "metadata": {
  "kernelspec": {
   "display_name": "Python 3",
   "language": "python",
   "name": "python3"
  },
  "language_info": {
   "codemirror_mode": {
    "name": "ipython",
    "version": 3
   },
   "file_extension": ".py",
   "mimetype": "text/x-python",
   "name": "python",
   "nbconvert_exporter": "python",
   "pygments_lexer": "ipython3",
   "version": "3.7.6"
  }
 },
 "nbformat": 4,
 "nbformat_minor": 4
}
